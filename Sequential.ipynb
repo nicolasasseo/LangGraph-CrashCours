{
 "cells": [
  {
   "cell_type": "code",
   "execution_count": 15,
   "id": "fad3c11c",
   "metadata": {},
   "outputs": [],
   "source": [
    "from typing import TypedDict, List\n",
    "from langgraph.graph import StateGraph"
   ]
  },
  {
   "cell_type": "code",
   "execution_count": 2,
   "id": "0fb836af",
   "metadata": {},
   "outputs": [],
   "source": [
    "class AgentState(TypedDict):\n",
    "  name: str\n",
    "  age: str\n",
    "  final: str\n",
    "\n"
   ]
  },
  {
   "cell_type": "code",
   "execution_count": 10,
   "id": "ac28e4d5",
   "metadata": {},
   "outputs": [],
   "source": [
    "def first_node(state: AgentState) -> AgentState:\n",
    "  \"\"\"This function handles the first node of the graph.\"\"\"\n",
    "  state['final'] = f\"Hello {state['name']}!\"\n",
    "  return state\n",
    "\n",
    "def second_node(state: AgentState) -> AgentState:\n",
    "  \"\"\"This function handles the second node of the graph.\"\"\"\n",
    "  state['final'] += f\" You are {state['age']} years old!\"\n",
    "  return state"
   ]
  },
  {
   "cell_type": "code",
   "execution_count": 11,
   "id": "ffb0c961",
   "metadata": {},
   "outputs": [],
   "source": [
    "graph = StateGraph(AgentState)\n",
    "graph.add_node(\"first_node\", first_node)\n",
    "graph.add_node(\"second_node\", second_node)\n",
    "graph.set_entry_point(\"first_node\")\n",
    "graph.add_edge(\"first_node\", \"second_node\")\n",
    "graph.set_finish_point(\"second_node\")\n",
    "app = graph.compile()\n"
   ]
  },
  {
   "cell_type": "code",
   "execution_count": 12,
   "id": "d071aa34",
   "metadata": {},
   "outputs": [
    {
     "data": {
      "image/png": "[encoded data removed]",
      "text/plain": [
       "<IPython.core.display.Image object>"
      ]
     },
     "metadata": {},
     "output_type": "display_data"
    }
   ],
   "source": [
    "from IPython.display import Image, display\n",
    "display(Image(app.get_graph().draw_mermaid_png()))"
   ]
  },
  {
   "cell_type": "code",
   "execution_count": 13,
   "id": "1a0f96b2",
   "metadata": {},
   "outputs": [
    {
     "name": "stdout",
     "output_type": "stream",
     "text": [
      "{'name': 'John', 'age': '20', 'final': 'Hello John! You are 20 years old!'}\n"
     ]
    }
   ],
   "source": [
    "result = app.invoke({\"name\": \"John\", \"age\": \"20\"})\n",
    "print(result)"
   ]
  },
  {
   "cell_type": "code",
   "execution_count": 31,
   "id": "ff2a1197",
   "metadata": {},
   "outputs": [],
   "source": [
    "class AgentState(TypedDict):\n",
    "  name: str\n",
    "  age: int\n",
    "  skills: List[str]\n",
    "  final: str\n",
    "\n",
    "def first_node(state: AgentState) -> AgentState:\n",
    "  \"\"\"This function handles the first node of the graph.\"\"\"\n",
    "  state['final'] = f\"{state['name']}, welcome to the system!\"\n",
    "  return state\n",
    "\n",
    "def second_node(state: AgentState) -> AgentState:\n",
    "  \"\"\"This function handles the second node of the graph.\"\"\"\n",
    "  state['final'] += f\" You are {state['age']} years old.\"\n",
    "  return state\n",
    "\n",
    "def third_node(state: AgentState) -> AgentState:\n",
    "  \"\"\"This function handles the third node of the graph.\"\"\"\n",
    "  state['final'] += f\" You have skills in:{', '.join(state['skills'])}\"\n",
    "  return state\n"
   ]
  },
  {
   "cell_type": "code",
   "execution_count": 32,
   "id": "929f0db5",
   "metadata": {},
   "outputs": [],
   "source": [
    "graph2 = StateGraph(AgentState)\n",
    "graph2.add_node(\"first_node\", first_node)\n",
    "graph2.add_node(\"second_node\", second_node)\n",
    "graph2.add_node(\"third_node\", third_node)\n",
    "graph2.set_entry_point(\"first_node\")\n",
    "graph2.add_edge(\"first_node\", \"second_node\")\n",
    "graph2.add_edge(\"second_node\", \"third_node\")\n",
    "graph2.set_finish_point(\"third_node\")\n",
    "app2 = graph2.compile()\n"
   ]
  },
  {
   "cell_type": "code",
   "execution_count": 33,
   "id": "be890899",
   "metadata": {},
   "outputs": [
    {
     "data": {
      "image/png": "[encoded data removed]",
      "text/plain": [
       "<IPython.core.display.Image object>"
      ]
     },
     "metadata": {},
     "output_type": "display_data"
    }
   ],
   "source": [
    "display(Image(app2.get_graph().draw_mermaid_png()))"
   ]
  },
  {
   "cell_type": "code",
   "execution_count": 34,
   "id": "399a05d3",
   "metadata": {},
   "outputs": [
    {
     "name": "stdout",
     "output_type": "stream",
     "text": [
      "{'name': 'John', 'age': 20, 'skills': ['Python', 'SQL'], 'final': 'John, welcome to the system! You are 20 years old. You have skills in:Python, SQL'}\n"
     ]
    }
   ],
   "source": [
    "results = app2.invoke({\"name\": \"John\", \"age\": 20, \"skills\": [\"Python\", \"SQL\"]})\n",
    "print(results)"
   ]
  },
  {
   "cell_type": "code",
   "execution_count": 35,
   "id": "aef13b0e",
   "metadata": {},
   "outputs": [
    {
     "name": "stdout",
     "output_type": "stream",
     "text": [
      "John, welcome to the system! You are 20 years old. You have skills in:Python, SQL\n"
     ]
    }
   ],
   "source": [
    "print(results['final'])"
   ]
  }
 ],
 "metadata": {
  "kernelspec": {
   "display_name": "Python 3",
   "language": "python",
   "name": "python3"
  },
  "language_info": {
   "codemirror_mode": {
    "name": "ipython",
    "version": 3
   },
   "file_extension": ".py",
   "mimetype": "text/x-python",
   "name": "python",
   "nbconvert_exporter": "python",
   "pygments_lexer": "ipython3",
   "version": "3.11.9"
  }
 },
 "nbformat": 4,
 "nbformat_minor": 5
}
