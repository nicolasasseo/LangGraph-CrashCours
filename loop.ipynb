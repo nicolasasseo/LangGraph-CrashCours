{
 "cells": [
  {
   "cell_type": "code",
   "execution_count": 2,
   "id": "5c3f5d3d",
   "metadata": {},
   "outputs": [],
   "source": [
    "from langgraph.graph import StateGraph, START, END\n",
    "import random\n",
    "from typing import Dict, List, TypedDict"
   ]
  },
  {
   "cell_type": "code",
   "execution_count": 12,
   "id": "312282b1",
   "metadata": {},
   "outputs": [],
   "source": [
    "class AgentState(TypedDict):\n",
    "  name: str\n",
    "  numbers: List[int]\n",
    "  count: int"
   ]
  },
  {
   "cell_type": "code",
   "execution_count": 13,
   "id": "88f09007",
   "metadata": {},
   "outputs": [],
   "source": [
    "def greeting_node(state: AgentState) -> AgentState:\n",
    "  \"\"\"This node prints a greeting message to the console.\"\"\"\n",
    "  print(f\"Hello {state['name']}\")\n",
    "  state['count'] = 0\n",
    "  return state\n",
    "\n",
    "def random_node(state: AgentState) -> AgentState:\n",
    "  \"\"\"This node generates a random number and adds it to the numbers list.\"\"\"\n",
    "  state['numbers'].append(random.randint(1, 100))\n",
    "  state['count'] += 1\n",
    "  return state\n",
    "\n",
    "def should_loop(state: AgentState) -> AgentState:\n",
    "  \"\"\"This node checks if we should loop again.\"\"\"\n",
    "  if state['count'] < 5:\n",
    "    return 'loop'\n",
    "  else:\n",
    "    return \"exit\"\n",
    "  "
   ]
  },
  {
   "cell_type": "code",
   "execution_count": 15,
   "id": "f159ffbd",
   "metadata": {},
   "outputs": [
    {
     "data": {
      "image/png": "[encoded data removed]",
      "text/plain": [
       "<IPython.core.display.Image object>"
      ]
     },
     "metadata": {},
     "output_type": "display_data"
    },
    {
     "name": "stdout",
     "output_type": "stream",
     "text": [
      "Hello John\n",
      "{'name': 'John', 'numbers': [24, 11, 74, 76, 20], 'count': 5}\n"
     ]
    }
   ],
   "source": [
    "graph = StateGraph(AgentState)\n",
    "graph.add_node(\"greeting\", greeting_node)\n",
    "graph.add_node(\"random\", random_node)\n",
    "graph.add_edge(START, \"greeting\")\n",
    "graph.add_edge(\"greeting\", \"random\")\n",
    "graph.add_conditional_edges(\"random\", should_loop, {\n",
    "  \"loop\": \"random\",\n",
    "  \"exit\": END\n",
    "})\n",
    "\n",
    "app = graph.compile()\n",
    "from IPython.display import Image, display\n",
    "display(Image(app.get_graph().draw_mermaid_png()))\n",
    "initial_state = AgentState(name=\"John\", numbers=[], count=0)\n",
    "results = app.invoke(initial_state)\n",
    "print(results)\n"
   ]
  },
  {
   "cell_type": "code",
   "execution_count": 23,
   "id": "b8cc558c",
   "metadata": {},
   "outputs": [],
   "source": [
    "from typing import Optional\n",
    "class AgentState(TypedDict):\n",
    "  player_name: str \n",
    "  guesses: Optional[List[int]]\n",
    "  target_number: Optional[int]\n",
    "  hint: Optional[str]\n",
    "  attempts: Optional[int]\n",
    "  lower_bound: int\n",
    "  upper_bound: int"
   ]
  },
  {
   "cell_type": "code",
   "execution_count": 40,
   "id": "e3beb404",
   "metadata": {},
   "outputs": [],
   "source": [
    "def setup_game(state: AgentState) -> AgentState:\n",
    "  \"\"\"This node sets up the game by generating a random target number and initializing the game state.\"\"\"\n",
    "  state['target_number'] = random.randint(state[\"lower_bound\"], state[\"upper_bound\"])\n",
    "  state[\"guesses\"] = []\n",
    "  state['attempts'] = 0\n",
    "  print(f\"Welcome to the game, {state['player_name']}! Try to guess the number between {state['lower_bound']} and {state['upper_bound']}.\")\n",
    "  return state\n",
    "\n",
    "def guess_node(state: AgentState) -> AgentState:\n",
    "  \"\"\"This node represents the graph's guess\"\"\"\n",
    "\n",
    "  state['attempts'] += 1\n",
    "  possible_guesses = [i for i in range(state[\"lower_bound\"], state[\"upper_bound\"] + 1) if i not in state[\"guesses\"]]\n",
    "  if not possible_guesses:\n",
    "    state[\"hint\"] = \"No more guesses are available.\"\n",
    "    return state\n",
    "  guess = random.choice(possible_guesses)\n",
    "  state[\"guesses\"].append(guess)\n",
    "  return state\n",
    "\n",
    "def hint_node(state: AgentState) -> AgentState:\n",
    "  \"\"\"This node provides a hint based on the player's guess.\"\"\"\n",
    "  latest_guess = state[\"guesses\"][-1]\n",
    "  print(f\"latest_guess: {latest_guess}\")\n",
    "  print(f\"You are on attempt number {state['attempts']}\")\n",
    "  if latest_guess < state[\"target_number\"]:\n",
    "    state[\"hint\"] = \"Try a higher number.\"\n",
    "    print(state[\"hint\"])\n",
    "    state[\"lower_bound\"] = max(state[\"lower_bound\"], latest_guess)\n",
    "  elif latest_guess > state[\"target_number\"]:\n",
    "    state[\"hint\"] = \"Try a lower number.\"\n",
    "    print(state[\"hint\"])\n",
    "    state[\"upper_bound\"] = min(state[\"upper_bound\"], latest_guess)\n",
    "  else:\n",
    "    state[\"hint\"] = \"Congratulations! You guessed the number.\"\n",
    "    print(state[\"hint\"])\n",
    "  return state\n",
    "\n",
    "def should_continue(state: AgentState) -> AgentState:\n",
    "  \"\"\"This node checks if the game should continue.\"\"\"\n",
    "  if state[\"attempts\"] < 7:\n",
    "    return \"guess\"\n",
    "  else:\n",
    "    return \"end\"\n",
    "\n",
    "\n"
   ]
  },
  {
   "cell_type": "code",
   "execution_count": 41,
   "id": "b61be1eb",
   "metadata": {},
   "outputs": [
    {
     "data": {
      "image/png": "[encoded data removed]",
      "text/plain": [
       "<IPython.core.display.Image object>"
      ]
     },
     "metadata": {},
     "output_type": "display_data"
    }
   ],
   "source": [
    "graph = StateGraph(AgentState)\n",
    "graph.add_node(\"setup\", setup_game)\n",
    "graph.add_node(\"guess\", guess_node)\n",
    "graph.add_node(\"hint\", hint_node)\n",
    "graph.add_edge(START, \"setup\")\n",
    "graph.add_edge(\"setup\", \"guess\")\n",
    "graph.add_edge(\"guess\", \"hint\")\n",
    "graph.add_conditional_edges(\"hint\", should_continue, {\n",
    "  \"guess\": \"guess\",\n",
    "  \"end\": END\n",
    "})\n",
    "app = graph.compile()\n",
    "\n",
    "from IPython.display import Image, display\n",
    "display(Image(app.get_graph().draw_mermaid_png()))\n",
    "\n"
   ]
  },
  {
   "cell_type": "code",
   "execution_count": 43,
   "id": "81343d55",
   "metadata": {},
   "outputs": [
    {
     "name": "stdout",
     "output_type": "stream",
     "text": [
      "Welcome to the game, Nico! Try to guess the number between 1 and 20.\n",
      "latest_guess: 3\n",
      "You are on attempt number 1\n",
      "Try a higher number.\n",
      "latest_guess: 7\n",
      "You are on attempt number 2\n",
      "Try a higher number.\n",
      "latest_guess: 17\n",
      "You are on attempt number 3\n",
      "Try a higher number.\n",
      "latest_guess: 19\n",
      "You are on attempt number 4\n",
      "Congratulations! You guessed the number.\n",
      "latest_guess: 20\n",
      "You are on attempt number 5\n",
      "Try a lower number.\n",
      "latest_guess: 18\n",
      "You are on attempt number 6\n",
      "Try a higher number.\n",
      "latest_guess: 18\n",
      "You are on attempt number 7\n",
      "Try a higher number.\n"
     ]
    },
    {
     "data": {
      "text/plain": [
       "{'player_name': 'Nico',\n",
       " 'guesses': [3, 7, 17, 19, 20, 18],\n",
       " 'target_number': 19,\n",
       " 'hint': 'Try a higher number.',\n",
       " 'attempts': 7,\n",
       " 'lower_bound': 18,\n",
       " 'upper_bound': 20}"
      ]
     },
     "execution_count": 43,
     "metadata": {},
     "output_type": "execute_result"
    }
   ],
   "source": [
    "app.invoke({\"player_name\": \"Nico\", \"lower_bound\": 1, \"upper_bound\": 20})"
   ]
  }
 ],
 "metadata": {
  "kernelspec": {
   "display_name": "Python 3",
   "language": "python",
   "name": "python3"
  },
  "language_info": {
   "codemirror_mode": {
    "name": "ipython",
    "version": 3
   },
   "file_extension": ".py",
   "mimetype": "text/x-python",
   "name": "python",
   "nbconvert_exporter": "python",
   "pygments_lexer": "ipython3",
   "version": "3.11.9"
  }
 },
 "nbformat": 4,
 "nbformat_minor": 5
}
